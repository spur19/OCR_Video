{
 "metadata": {
  "language_info": {
   "codemirror_mode": {
    "name": "ipython",
    "version": 3
   },
   "file_extension": ".py",
   "mimetype": "text/x-python",
   "name": "python",
   "nbconvert_exporter": "python",
   "pygments_lexer": "ipython3",
   "version": "3.9.0"
  },
  "orig_nbformat": 2,
  "kernelspec": {
   "name": "python390jvsc74a57bd016e6d4416837aa69ac450a97991d2e9bdda02c348f23ce30b96dd812591fc704",
   "display_name": "Python 3.9.0 64-bit"
  },
  "metadata": {
   "interpreter": {
    "hash": "16e6d4416837aa69ac450a97991d2e9bdda02c348f23ce30b96dd812591fc704"
   }
  }
 },
 "nbformat": 4,
 "nbformat_minor": 2,
 "cells": [
  {
   "cell_type": "code",
   "execution_count": 1,
   "metadata": {},
   "outputs": [],
   "source": [
    "# Specify the arguments for the model\n",
    "# video : Path to video file\n",
    "# east : Path to EAST scene text detector model file\n",
    "# min_confidence : Probability threshold to determine text\n",
    "# width :Resized frame width (must be a multiple of 32)\n",
    "# height : Resized frame height (must be a multiple of 32)\n",
    "# padding : amount of padding to add to each border of ROI\n",
    "args = {'video':\"source_hq.mp4\", 'min_confidence' : 0.6 , 'east': 'frozen_east_text_detection.pb', 'width': 1280 , 'height' : 704, 'padding' : 0}"
   ]
  },
  {
   "cell_type": "code",
   "execution_count": 2,
   "metadata": {},
   "outputs": [],
   "source": [
    "# Import the required packages\n",
    "import imutils\n",
    "from imutils.object_detection import non_max_suppression\n",
    "from imutils.video import VideoStream\n",
    "from imutils.video import FPS\n",
    "import numpy as np\n",
    "import pytesseract\n",
    "import argparse\n",
    "import cv2\n",
    "import time\n",
    "import re\n",
    "\n",
    "# Mention the installed location of Tesseract-OCR in the system\n",
    "pytesseract.pytesseract.tesseract_cmd = r'C:\\Program Files\\Tesseract-OCR\\tesseract.exe'  \n",
    "\n",
    "def decode_predictions(scores, geometry):\n",
    "\t# grab the number of rows and columns from the scores volume, then\n",
    "\t# initialize our set of bounding box rectangles and corresponding\n",
    "\t# confidence scores\n",
    "\t(numRows, numCols) = scores.shape[2:4]\n",
    "\trects = []\n",
    "\tconfidences = []\n",
    "\t# loop over the number of rows\n",
    "\tfor y in range(0, numRows):\n",
    "\t\t# extract the scores (probabilities), followed by the\n",
    "\t\t# geometrical data used to derive potential bounding box\n",
    "\t\t# coordinates that surround text\n",
    "\t\tscoresData = scores[0, 0, y]\n",
    "\t\txData0 = geometry[0, 0, y]\n",
    "\t\txData1 = geometry[0, 1, y]\n",
    "\t\txData2 = geometry[0, 2, y]\n",
    "\t\txData3 = geometry[0, 3, y]\n",
    "\t\tanglesData = geometry[0, 4, y]\n",
    "\t\t# loop over the number of columns\n",
    "\t\tfor x in range(0, numCols):\n",
    "\t\t\t# if our score does not have sufficient probability,\n",
    "\t\t\t# ignore it\n",
    "\t\t\tif scoresData[x] < args[\"min_confidence\"]:\n",
    "\t\t\t\tcontinue\n",
    "\t\t\t# compute the offset factor as our resulting feature\n",
    "\t\t\t# maps will be 4x smaller than the input image\n",
    "\t\t\t(offsetX, offsetY) = (x * 4.0, y * 4.0)\n",
    "\t\t\t# extract the rotation angle for the prediction and\n",
    "\t\t\t# then compute the sin and cosine\n",
    "\t\t\tangle = anglesData[x]\n",
    "\t\t\tcos = np.cos(angle)\n",
    "\t\t\tsin = np.sin(angle)\n",
    "\t\t\t# use the geometry volume to derive the width and height\n",
    "\t\t\t# of the bounding box\n",
    "\t\t\th = xData0[x] + xData2[x]\n",
    "\t\t\tw = xData1[x] + xData3[x]\n",
    "\t\t\t# compute both the starting and ending (x, y)-coordinates\n",
    "\t\t\t# for the text prediction bounding box\n",
    "\t\t\tendX = int(offsetX + (cos * xData1[x]) + (sin * xData2[x]))\n",
    "\t\t\tendY = int(offsetY - (sin * xData1[x]) + (cos * xData2[x]))\n",
    "\t\t\tstartX = int(endX - w)\n",
    "\t\t\tstartY = int(endY - h)\n",
    "\t\t\t# add the bounding box coordinates and probability score\n",
    "\t\t\t# to our respective lists\n",
    "\t\t\trects.append((startX, startY, endX, endY))\n",
    "\t\t\tconfidences.append(scoresData[x])\n",
    "\t# return a tuple of the bounding boxes and associated confidences\n",
    "\treturn (rects, confidences)"
   ]
  },
  {
   "cell_type": "code",
   "execution_count": 3,
   "metadata": {},
   "outputs": [
    {
     "output_type": "stream",
     "name": "stdout",
     "text": [
      "[INFO] loading EAST text detector...\n"
     ]
    }
   ],
   "source": [
    "# initialize the original frame dimensions, new frame dimensions,\n",
    "# and ratio between the dimensions\n",
    "(W, H) = (1280, 720)\n",
    "(newW, newH) = (args[\"width\"], args[\"height\"])\n",
    "(rW, rH) = (W/float(newW),H/float(newH))\n",
    "# define the two output layer names for the EAST detector model that\n",
    "# we are interested -- the first is the output probabilities and the\n",
    "# second can be used to derive the bounding box coordinates of text\n",
    "layerNames = [\n",
    "\t\"feature_fusion/Conv_7/Sigmoid\",\n",
    "\t\"feature_fusion/concat_3\"]\n",
    "# load the pre-trained EAST text detector\n",
    "print(\"[INFO] loading EAST text detector...\")\n",
    "net = cv2.dnn.readNet(args[\"east\"])\n"
   ]
  },
  {
   "cell_type": "code",
   "execution_count": 4,
   "metadata": {},
   "outputs": [],
   "source": [
    "# start Video Capture\n",
    "vs = cv2.VideoCapture(\"source_hq.mp4\")\n",
    "# set FPS to 10\n",
    "vs.set(cv2.CAP_PROP_FPS, 10)\n",
    "# start the FPS throughput estimator\n",
    "fps = FPS().start()\n",
    "# initialize the list of results\n",
    "res = []"
   ]
  },
  {
   "cell_type": "code",
   "execution_count": 5,
   "metadata": {},
   "outputs": [
    {
     "output_type": "stream",
     "name": "stdout",
     "text": [
      "[INFO] elasped time: 2542.76\n[INFO] approx. FPS: 0.70\n"
     ]
    }
   ],
   "source": [
    "# loop over frames from the video stream\n",
    "while True:\n",
    "\t# grab the current frame of the VideoCapture object\n",
    "\tframe = vs.read()\n",
    "\tframe = frame[1] if args.get(\"video\", False) else frame\n",
    "\t# check to see if we have reached the end of the stream\n",
    "\tif frame is None:\n",
    "\t\tbreak\n",
    "\torig = frame.copy()\n",
    "\t(origH, origW) = frame.shape[:2]\n",
    "\t# resize the frame\n",
    "\tframe = cv2.resize(frame, (args[\"width\"], args[\"height\"]))\n",
    "\t# construct a blob from the image and then perform a forward pass of\n",
    "\t# the model to obtain the two output layer sets\n",
    "\tblob = cv2.dnn.blobFromImage(frame, 1.0, (args[\"width\"], args[\"height\"]),(123.68, 116.78, 103.94), swapRB=True, crop=False)\n",
    "\tnet.setInput(blob)\n",
    "\t(scores, geometry) = net.forward(layerNames)\n",
    "\t# decode the predictions, then  apply non-maxima suppression to\n",
    "\t# suppress weak, overlapping bounding boxes\n",
    "\t(rects, confidences) = decode_predictions(scores, geometry)\n",
    "\tboxes = non_max_suppression(np.array(rects), probs=confidences)\n",
    "\t\n",
    "\t# loop over the bounding boxes\n",
    "\tfor (startX, startY, endX, endY) in boxes:\n",
    "\t\t# scale the bounding box coordinates based on the respective\n",
    "\t\t# ratios\n",
    "\t\tstartX = int(startX * rW)\n",
    "\t\tstartY = int(startY * rH)\n",
    "\t\tendX = int(endX * rW)\n",
    "\t\tendY = int(endY * rH)\n",
    "\t\t# in order to obtain a better OCR of the text we can potentially\n",
    "\t\t# apply a bit of padding surrounding the bounding box -- here we\n",
    "\t\t# are computing the deltas in both the x and y directions\n",
    "\t\tdX = int((endX - startX) * args[\"padding\"])\n",
    "\t\tdY = int((endY - startY) * args[\"padding\"])\n",
    "\t\t# apply padding to each side of the bounding box, respectively\n",
    "\t\tstartX = max(0, startX - dX)\n",
    "\t\tstartY = max(0, startY - dY)\n",
    "\t\tendX = min(origW, endX + (dX * 2))\n",
    "\t\tendY = min(origH, endY + (dY * 2))\n",
    "\t\t# extract the actual padded ROI\n",
    "\t\troi = orig[startY:endY, startX:endX]\n",
    "\n",
    "\t\t# in order to apply Tesseract v4 to OCR text we must supply\n",
    "\t\t# (1) a language, (2) an OEM flag of 4, indicating that the we\n",
    "\t\t# wish to use the LSTM neural net model for OCR, and finally\n",
    "\t\t# (3) an OEM value, in this case, 7 which implies that we are\n",
    "\t\t# treating the ROI as a single line of text\n",
    "\t\tconfig = (\"-l eng --oem 1 --psm 7\")\n",
    "\t\ttext = pytesseract.image_to_string(roi, config=config)\n",
    "\t\t# draw the bounding box on the frame\n",
    "\t\tcv2.rectangle(orig, (startX, startY), (endX, endY), (0, 255, 0), 2)\n",
    "\t\t# add the bounding box coordinates and OCR'd text to the list\n",
    "\t\t# of results\n",
    "\t\tres.append(((startX, startY, endX, endY), text))\n",
    "\t# update the FPS counter\n",
    "\tfps.update()\n",
    "\t# show the output image\n",
    "\tcv2.imshow(\"Text Detection\", orig)\n",
    "\tkey = cv2.waitKey(1) & 0xFF\n",
    "\t# if the `q` key was pressed, break from the loop\n",
    "\tif key == ord(\"q\"):\n",
    "\t\tbreak\n",
    "# stop the timer and display FPS information\n",
    "fps.stop()\n",
    "print(\"[INFO] elasped time: {:.2f}\".format(fps.elapsed()))\n",
    "print(\"[INFO] approx. FPS: {:.2f}\".format(fps.fps()))\n",
    "# Release the pointer \n",
    "vs.release()\n",
    "# close all windows\n",
    "cv2.destroyAllWindows()"
   ]
  },
  {
   "cell_type": "code",
   "execution_count": 6,
   "metadata": {},
   "outputs": [
    {
     "output_type": "stream",
     "name": "stdout",
     "text": [
      "OCR TEXT\n========\nsete\n\nreallydig\n\nVitae\n\nSs\n\njefe\n\nalejats\n\nayx\n\nlielal\n\nMmirphnoy\n\nQuy\n\nfresrye\n\nCa\n\nWW\n\nellal\n\nShield\n\nrelle!\n\nseers\n\nfrorit\n\niother\n\nbased!\n\nYe\\tlale!\n\nMB\n\naccessories\n\nfreprie\n\n‘other\n\nWihtel\n\nfey,\n\nAG\n\npase\n\nWelle\n\n‘Vitae\n\nWile\n\n\\wWweraae\n\nSpredg\n\nWONG,\n\nlyyith\n\nel!\n\nSSejeipaitaly\n\naveyals\n\nSV\n\nfort\n\nrar\n\nlinelall\n\nlont\n\nDate\n\nbas@a\n\nPaalivb\n\namMiIc\n\nWen\n\nleJplejales\n\nIR\n\n12\n\nfelelanlereircie\n\nVWMellaksejltliale\n\ncorogrect\n\nYelbir\n\nDolby\n\nbas@w\n\nsland\n\nTet\n\nthing\n\nWiest\n\n‘oer\n\nYolvialey\n\n13\n\n‘SUID?\n\nl@leliiic\n\nbegged\n\nehy,\n\nSke\\\n\nSei\n\nVAeliokseltlale\n\nPal\n\nIby\n\nVie\n\nfe\n\nfroryt\n\nIe\n\nYAN?\n\n192\n\ncadlelel\n\nmac,\n\nCeramia\n\nlien\n\nTTe\\alles\n\n‘Shield\n\nSele\n\npig\n\nfeleiisitcle’\n\nfelclelciecidlelall\n\nfeces\n\nwale\n\niPhone\n\nINot\n\nOctober\n\n5G\n\nWV\n\nfvejai\n\naveyveys\n\nWith\n\netter\n\nrleple,\n\ngased\n\nClaim\n\nAveildy\n\nalciaiaicieelal\n\nbhown\n\nae\n\nyom\n\nsrformance\n\nlena\n\nsubiject\n\nSornioarecd\n\nIbv\n\nVAN\n\nlSed\n\nliela\n\nryrayicyere™\n\nGéramic\n\nyor\n\n'Conamic\n\n“nga\n\n‘eViOUS\n\nferia\n\nMellouyeltlale\n\noJ\n\nSubject\n\narea\n\naone\n\nTEA»\n\nSize\n\nearhver\n\nHOW\n\nFl\n\nPReeuicts\n\nwel\n\nJIA\n\nPeril\n\ncatch\n\ntaAnditinne\n\n“ornoarac!\n\nGain\n\noy’carrier,\n\nGéeramie\n\nfacto\n\nICGGESSONeS\n\nShall\n\nMaaSafe\n\nid\n\nINVAG\n\n‘base\n\nSeperaiely,\n\nYARD\n\nMollowelvlale\n\nShied\n\ncoveraostya\n\naveyala\n\nWMellamselelale\n\n\\Sve\n\nWha!\n\nINiot\n\nfsiie\n\nLiDAR\n\ncok\n\nsiciaicecitlesny\n\nWitt\n\nMieiielacWejmete\n\neers\\\\\\Veeyle\n\nPitinl\n\nlieu\n\nVioUs\n\nelejeniereireiel\n\nseparately\n\nlare\n\nVibaa’\n\n‘areas\n\nine\n\nIPhone\n\nClair\n\nfactoke\n\nRear’\n\nVE\n\nore!\n\nrevalll\n\nPd\n\nDoiby\n\neee\n\njie\\a\n\nolelanieiciacisl\n\nrelay\n\npy\n\n‘pyr\n\neste\n\nBante\n\n“UNDERS\n\nor\n\nPAV\n\nbi\n\nMayx\n\n2roducts\n\nfalclalcieciitelal\n\nEvent?\n\nMaries\n\nASE\n\nViGiit\n\nTfelays\n\nSeer\n\nia\n\nrlejanlelcifeis\n\ncoverage\n\nSWoltetauie\n\nellel\n\nlby\n\nbyCérrie\n\nslfantl\n\nliom\n\nry\n\nSpeedo\n\nPhone\n\nather\n\nmeses\n\nntroduci\n\nmleiihanielele\n\ni2plelpiss\n\neric\n\nOe\n\nfelgeyo\n\nWaIeS\n\ndetaile\n\nWaim\n\nrYo\\blalel\n\nmale\n\nbre\n\n‘evar\n\nrorjogrecl\n\nSAIPIET\n\narformance\n\nLejerereitior\n\nowed\n\nWe\n\nThee\n\nbased\n\nfoanditinane\n\nIshe\\\n\nWilsihist\n\nbuals\n\nelellivaiielete\n\nSeel\n\nsejle\n\nors\n\nLS\n\nfelrelal\n\nAvailability\n\nKeys\n\nVelcs\n\nDower’\n\nLe\n\nelle\n\nOakey\n\nnoteleliiciel\n\nscyle\n\nASA\n\nreleyal\n\nfon!\n\nlatent\n\ncslicilel\n\n“Toei\n\nmeet\n\n‘onl\n\nINof\n\nRlellivanielele\n\naanditinne\n\nyy\n\niy\n\nfori\n\nYeti\n\nWelatntaliitetataa\n\nVe\n\nHey\n\nigevsie\n\nCercrnic\n\npiiaevelUlelate\n\n@ia\\zlielsie\n\nClaiti\n\naalzyecevelaalial\n\n“eramig\n\nVary\n\ny,\n\nAeHeraron\n\nfrelel\n\nSate\n\neto\n\nCound\n\nPDowerful\n\nPowerful\n\nNera\n\nTeyaltes\n\nfatale\n\ngear\n\nGererric\n\nellen\n\npre\n\nSh\n\nUe\n\nVia\n\nbia\n\nothe\n\nfyubried\n\ntare\n\nToelliicer\n\nat\n\ncite\n\nShigid,\n\nfelal\n\nsold\n\n‘avatlably\n\nte,\n\nalll\n\nMiéditinne\n\nbireyrye\n\nreaViOUs\n\n—,\n\nSintelel\n\nfecciien\n\nLa\\\n\nsmall\n\nClairn\n\nyyith\n\ntela\n\nMissed\n\nEven\n\nMelia\n\ndetails\n\nsJancd\n\nVaties\n\navevats\n\nfeyi\n\nVaries\n\nfeat\n\nValy\n\nSpeedgf\n\nplani\n\nseparate\n\nWare\n\nearjoarecl\n\nWil\n\nREYSHIAVA\n\nareas\n\nMW\n\nMax\n\nlite!\n\n‘Oni\n\nesr\n\nProducts\n\nSee\n\neieyle\n\nbiUiuelas\n\natihel\n\nler\n\nJaccessories\n\nGareirriie\n\nHI\n\nelresulelelse\n\n“amMiIc\n\nule\n\neoriesrae\n\n“Shiela\n\nies\n\nfactore\n\nweet\n\nreallVbig\n\nVit\n\nsyaielsaarel\n\ne\\le\n\nbial\n\nFf\n\nZO!\n\nRata\n\nbelsce!\n\n‘pas\\\n\nLireyrit\n\nay\n\nlavailable\n\nIheteslelots\n\npeice\n\nfexciiea\n\nGeareipriic\n\n‘SsuD?\n\naVailable\n\nISeel\n\nAOC\n\nghowna\n\nfons\n\nACGESSONeS\n\n‘opndit\n\nareas,\n\nYeatzyocelemanlial\n\neoriejcrael\n\nad\n\nGarerric\n\npap!\n\nConidearegd\n\n7eyalles\n\nNr\n\nHomePod\n\nrreveltlisctel\n\noth\n\nliter\n\nDR\n\niIfelaye\n\nA14a\n\nWelatataliitetataa\n\nAbthe\n\nsites\n\nTon\n\nMag\n\ndetail!\n\nleche\n\n‘Siialt\n\nif\n\nSeeley\n\nrevious\n\nPhene\n\nmomioaed\n\nbetter\n\nDatal\n\nberaleletals\n\nhesec\n\nrfellel\n\nelicnt\n\n‘Shieid\n\nReally\n\ndrop\n\nHolle\n\n‘WA\n\nPfeducts\n\nos\n\n“on\n\nING\n\nSpeed¢\n\npene\n\nmeiecitcet\n\nShielel\n\nal\n\nra\n\nis\n\n‘nd\n\nyay?\n\n‘better\n\nfoarrit\n\nIDR\n\nVenues\n\nqeneration\n\nPr@ducts\n\nyah’\n\nelelslea\n\nSOA\n\neaorjogrecl\n\nNreveltliccieh\n\neleipleecielelpe\n\nbal\n\nLor\n\nbiUlaelan\n\nfeNelialcii\n\nUter\n\nIGGESSonmes\n\nbas@d\n\nrw\n\ntoe\n\nShigigl\n\nbiUlaelas\n\nrreveltlicctel\n\n‘eto\n\nwT\n\nWhelloksolblale\n\nplan\n\nWracilicetel\n\n‘Ten\n\n4g\n\nShea\n\nlight\n\néhown\n\neieiciciel\n\naleianelis\n\nfal\n\nelsalaecielelal\n\nercle\n\nhetter\n\n19\n\nSheed\n\nAIA\n\neVetelest\n\nleva\n\nrfsite\n\n‘othe\n\n‘Products\n\nMejialsyi\n\nfuture\n\n“elle\n\nVi\n\nase\n\neound\n\n‘lfeya\n\nfalta\n\nprevious\n\nital\n\neyious\n\n\\oaer\n\ngite\n\nDowearfiil\n\nShfelal\n\nigetr\n\nTfelaye\n\n‘ofarage\n\nsite\n\npax\n\nIN‘ot\n\nive\n\nwZetelatelitielatct\n\nShiela\n\nSerrieerec!\n\nMay\n\nA14\n\nGian\n\nLATA\n\nCararnic\n\nreally\n\n121\n\nsnatelares\n\nACCeSSGMes\n\nheyser!\n\nBre\n\netatataliitetatea\n\nOyevsilivgellel\n\neVveleies\n\ntel?\n\nPy\n\nieee,\n\nWats\n\nwith\n\nViellakneleliale\n\nbette\n\nats\n\nTeltesulelulce\n\nrreveltlinatel\n\nbor\n\nela\n\naclatieciilelal\n\npo\n\nSyansed\n\nrc\n\nBea\n\nIHlall\n\nSpeedd¢\n\nSafe\n\nfot\n\nagatelares\n\nreallybig\n\nother\n\nSecretly\n\ntiny\n\nWee\n\nfescliea\n\nDataplan\n\nerformance\n\nnitcere\n\nbaie\n\nACGESSones\n\nfella\n\nVV\n\niNfeta\n\norner\n\nielejanielcincisl\n\neye!\n\nBallance!\n\nWF\n\nWeyatotectiletet\n\nTeja\n\neile\n\nsSejeireitaly\n\nWay\n\nUMS\n\nAGGESSoNes\n\nccevemaniial\n\nBiellivanielele\n\nlywyith\n\nAligelelelelia\n\nvary\n\nCeramic\n\nrellel\n\nCarsrryic\n\nlinelalt\n\nnreviey\n\neorjogrecl\n\nFelsisileliicie!\n\nYeh\n\n2allWPbig\n\nSee!\n\nala\n\nTeltesulelulse\n\nTTele\n\nfreseit\n\nTelal\n\neTtellivaniielele\n\ncoveraage\n\nbasé\n\nios\n\nSWoteauie\n\naeseis\n\nBon\n\nominelitiqusiss\n\ncitel\n\nhon\n\niMollowelvlale\n\nare\n\nvey\n\nlPstelllivctens\n\nTelfesulelulse\n\nlact\n\nbelce!\n\niD\n\nSelle\n\nSSejcifaitaly\n\neariogrecl\n\nofe\n\nup\n\nCerrier\n\nmao,\n\nelapleecielelpe\n\nVary!\n\nfoo\n\nBy\n\nMeElehsieiies\n\nferries\n\nNotavailable\n\nfront\n\nfelicia\n\nTaalzyocelemaalial\n\nrelelaniereirciel\n\naaliay\n\niPhorie\n\nOx\n\ngOverage\n\nClaire\n\nTuesday\n\n‘Shela\n\n‘based\n\nelrlal\n\nrevavatelitielatss\n\ncormoarec\n\nfog\n\ngeneratior\n\nten\n\nTonal\n\ntan\n\nTaielll\n\nTole\n\ner\n\nplelanieiiicisl\n\norice\n\njf\n\nfeslaeiicie\n\narti\n\nIROL\n\nhens\n\ncarrier\n\netfeyalle\n\nlate\n\nDowerful\n\n‘™\n\nWa\n\nVal\n\nvou\n\nbeijae\n\nred\n\ncite!\n\nLV,\n\nge\n\nfartal\n\nialddiaiicial\n\nwith!\n\nADI\n\nWaellokselllale\n\nPR\n\n“orrnogrec\n\nNDE\n\nPowerft\n\nOctébe\n\ncmall\n\nWot\n\nreaveleliaciel\n\nWelatataliitetat—a\n\nAla\n\nSata\n\nin\n\n606\n\nlata!\n\nTela\n\nTmellezireiel\n\nrr\n\nsize\n\nalist\n\nPW\n\nbase\n\nbejnael\n\nPro\n\nOA\n\nPX\n\nPaice\n\nul\n\nshnd\n\nreall\n\nSalicie\n\nSpeed\n\nte\n\navailable\n\nshown\n\nCharaed\n\nfalclatsiccialelal\n\nEVEleleyiliaa\n\nseverely\n\nPye\n\njell\n\nesa\n\nsiinn\n\nvaries\n\nLineal\n\nSA\n\nfight\n\nre\n\nory\n\nori\n\nyreyious\n\nelaim\n\nanc\n\niS\n\naye\n\nRel\n\nHD\n\nWiaries\n\nmele\n\nnrevie\n\nJavbilable\n\ndAtale\n\ndicer\n\ndats\n\nrt\n\n\\\\\n\nlraguiredy\n\nVenus\n\nNaries\n\nSIZE\n\n‘sul?\n\nlvaries\n\n12K\n\nBior\n\nvafies\n\nFV\n\nwl\n\nFelslsileliicie!\n\nee\n\nSS\n\nrd\n\nleva’\n\nQquy\n\nelerelest\n\ntet\n\nlreteltlicctel\n\nfelelal\n\nlon\n\nelaplaecielelpl\n\nENay\n\neae\n\nelle!\n\nlirsiale\n\nrecciiea\n\n191\n\nKp’\n\nie7\n\nMie\n\nete\n\n‘old\n\narpas\n\nome\n\nir\n\nYelle!\n\nCT\n\nier’\n\niby\n\nshod\n\nfactora\n\nWitelehetel\n\nead\n\nconditions\n\nsbndc\n\nCarrier\n\nfont\n\nSTeliivaitietete\n\nPeevey\n\nont\n\n‘by\n\nTh\n\nrorjogracl\n\neorriocrae!\n\nUg\n\nlaligerelUlejlare\n\nVaR,\n\nedalesois\n\nBate\n\noe\n\nSeneratior\n\nals\n\nVen\n\ninners\n\nOa\n\nWhejleknelblale\n\n't\n\nfexclieia\n\nSpneedd\n\ntlavailabié\n\nfel\n\nspatelares\n\nWary\n\nSpeed¢d\n\nA144\n\njie\n\nData\n\nrreveltligctel\n\nbaby!\n\nACGGESSoNes\n\nirateltlincte!\n\nWelehselics\n\nACGGESSones\n\nzevonantial\n\n“a\n\nfelolanlereitctel\n\nShiealel\n\nfexciien\n\n‘October\n\nCeramid\n\net\n\nlinelal\n\nnlanl\n\nbasen\n\nRe\n\n‘lavigeveltleylat\n\nVigut\n\nShiele\n\nAll\n\niA14\n\nAPons\n\nTova\n\neleielaecitleial\n\naaietitelel\n\nbas@e\n\norl\n\ncites\n\nPe\n\nthe\n\naalial\n\nWlele\n\nDitnelelUlesial\n\nPredicts\n\ncl\n\nbig\n\nwe\n\nLIDAR\n\npeicicie\n\nReally,\n\nsl\n\nDY\n\neyle\n\n‘actors,\n\nClaim!\n\nVida\n\nShialel\n\navailabilitv\n\n66\n\nreally,\n\nsejiatsit\n\nTuesday,\n\nelelal\n\nPO\n\nsubiect\n\nrl\n\nVASA\n\nalo\n\nnall\n\nINod\n\nBi\n\nWeld\n\nlaccessories\n\n‘Salizile\n\nbid\n\nein\n\naly\n\n‘Shiela\n\nbaU\n\nVA\n\nfeoliea\n\nTce\n\n5G!\n\nPelee\n\nShiale\n\nditeyF\n\nroanditianc\n\ne\\s\n\nrelrelal\n\nTeel\n\n19I¢\n\nAY\n\nowe\n\nath\n\nWhelleakselelale\n\n1Phene\n\nil\n\nBlellivaiielete\n\nBit\n\nWiha\n\nwertful\n\nYoyblatel\n\nMahe\n\nireori\n\nlow\n\nver\n\npemeliienee\n\nOrysite\n\nHer\n\nll\n\nNes\n\neaviel\n\nINVete\n\ndttaiis\n\nClairr\n\ntien\n\nGerernic\n\noris\n\nA112\n\nYeltlatel\n\nJby’\n\nape\n\nseatelares\n\nKoval\n\nGerarnic\n\nPec\n\nJoy\n\nWeeys\\\\\\\\e\n\nher\n\nibe\n\nfeltelal\n\nEee\n\nTey\n\nPenn\n\nPati\n\nrelat\n\nTite\n\nHey,\n\nSpeedsf\n\nfreee\n\niipeseit\n\nolan\n\nNaim\n\nEtiomavetsteliits\n\n,are\n\nAR\n\ndale\n\n@ein\n\nAUS\n\n\\oAe\\\n\nfon\n\nThe\n\nTey,\n\nSeeds\n\nIiy\n\nVey\n\nrellal\n\nsubject\n\nie\n\nUj\n\nnolan!\n\nrequired\n\nlb\n\nfelgeye\n\nLSS\n\nTitel\n\navo\n\nteeny\n\neqund\n\nferal\n\nOn\n\nhaced\n\nfaltetal\n\nax\n\nEET\n\n‘ireyrit\n\nDy\n\nFeral’\n\nSpeeds!\n\nbases\n\nNet\n\nlore\n\ndite\n\n‘aramic\n\nelaipleecielelpe\n\nAV\n\nIW\n\nmini\n\nelaparitenl\n\nCLEP\n\nToa\n\nGUY\n\nEWEN\n\nTelfesulelules\n\nfol\n\nTele\n\nhers\n\nraalial\n\nVv\n\non\n\nfeeciiea\n\nmR\n\nVes\n\nTha\n\nDol\n\nNot\n\nSelelisteg\n\nfen\n\n‘SUD?\n\nguy\n\nvine\n\nRifts\n\nbil\n\ngeneration\n\nby\n\nDOlby\n\nSoriogrec\n\nSound\n\nSea\n\nfexziiea\n\nClaim,\n\niV\n\nWels\n\norrigr\n\nielelanleizitciel\n\nBY\n\n20verage\n\nHDR\n\nFete\n\nreallbig\n\nPalastchsy\n\nfron\n\n‘VIOUS\n\nIGGESSones\n\nMn\n\nThat's\n\nVaellamksolsiale\n\npen\n\nhy\n\nWAla\n\nPotala\n\n4x\n\nathar\n\nbasé@d\n\nlareas\n\nejialsis\n\nBa\n\nquy\n\ntter\n\niDplelplss\n\nwhats\n\nfamille\n\nOF\n\narcs\n\njefe!\n\nVan\n\nVy\n\nmye\n\nfellial\n\nMaa\n\nShed\n\ncize\n\ney\n\naBals\n\n‘Ito!\n\nfonts\n\niRhbene\n\nPyith\n\nnolan\n\naveyats\n\nmleilitaliieteye\n\ndave\n\naveyneys\n\n42\n\nFsKe\n\nYequirew\n\niitteia\n\navailability\n\nIfot\n\nMele\n\nreyious\n\nneneration’\n\nlaltsvieltize\n\nlela\n\nntroducir\n\n‘reallyDig\n\nISedc\n\nlIOW\n\nRetina\n\n‘Saligeye\n\nss\n\nBl\n\ncompared\n\n‘elelelact\n\nall\n\nref\n\nniant\n\n‘sup?\n\nTeyalles\n\njee\n\nits\n\nyer\n\nALIeS\n\nlcitec\n\nTuture\n\n@éramic\n\nsid\n\n‘ete\n\nSpeeds\n\npk\n\n4G\n\nisniellel\n\nWie\n\nTe\n\nocelemanlial\n\nphotos\n\nAGE\n\nOsea’\n\nOnl\n\nfork\n\nfarner\n\nBich\n\niNTet\n\nienlall\n\nTalseeiteial\n\nMini\n\nhind\n\n‘fev\n\nIV\n\nfollcial\n\nSpeedd\n\n“hte\n\nroreyareliilalptsa\n\nfed\n\nNj\n\nLV\n\nbas@al\n\n“aes\n\neleiplcecielelpe\n\nSorjogrecl\n\nCerarig\n\nOttis\n\nMaaq\n\nLon\n\nHiei\n\nGoerernic\n\nsejiatsie\n\nA114\n\ndetails!\n\nrreveltlinctel\n\norevious\n\nyall\n\nhi\n\nTom\n\neopiozracl\n\nBioni\n\nWASA\n\nSarl\n\nial\n\nle\n\nAVA\n\n‘kactore\n\nWs\n\nyou\n\nsubiectito\n\neormoarec\n\niPhe\n\nlSeel\n\nize\n\nselec!\n\nhirer\n\nWith,\n\nfins\n\nSjpiclel\n\nrelied\n\njrejaa\n\nVaellakseltiale\n\nmee\n\nUAE\n\nele\n\nMaadSafe\n\nove\n\niN\n\nrahy\n\nalshejiatci\n\nalesse\n\ntT7e\\alles\n\npitt\n\nwee\n\nsole\n\nHelerjereitlerl\n\nDaalivb\n\nWhelleoknelblale\n\nShiai\n\n5S\n\nsfrierp\n\nWy,\n\nNtey\n\n1h\n\nie\\g\n\nACGCESSGNes\n\nsola\n\naVa\n\nfor\n\nnimeetMayx\n\nwelsipizipelelelal\n\nfactors\n\nNol\n\niMellatcia\n\nret\n\nPwith\n\nnil\n\nLet's\n\niW\n\nDolb#\n\nl@leliiiic\n\nTaleiall\n\nPerri\n\nWy\n\nCen\n\nore\n\niDhearje\n\nlaalzyocelemaalial\n\nMRRES\n\nby,\n\nslelivanielele\n\nINO\n\niareliian\n\ncoverag\n\n"
     ]
    }
   ],
   "source": [
    "# sort the results bounding box coordinates from top to bottom\n",
    "res = sorted(res, key=lambda r:r[0][1])\n",
    "\n",
    "# clean the results obtained by Tesseract OCR\n",
    "filtered = set()\n",
    "# Remove duplicate words, words with unexpected symbols\n",
    "for ((startX, startY, endX, endY), text) in res:\n",
    "\ttokens = text.strip().split()\n",
    "\tclean_tokens =  [t for t in tokens if re.match(r'[^''-$%^&*()«_®+|~=.{}<>\\[\\]:\";`\\/]*$', t)]\n",
    "\tclean_s = ' '.join(clean_tokens)\n",
    "\tif(len(clean_s)>1 and not(bool(re.search(r\"\\s\", clean_s)))):\n",
    "\t\tfiltered.add(clean_s)\n",
    "\n",
    "# Write results obtained to a text file\n",
    "file1 = open('results.txt', 'w')\n",
    "\n",
    "\n",
    "# display the text OCR'd by Tesseract\n",
    "print(\"OCR TEXT\")\n",
    "print(\"========\")\t\n",
    "for word in filtered:\t\n",
    "\tprint(\"{}\\n\".format(word))\n",
    "\tfile1.write(word)\n",
    "\tfile1.write(\"\\n\")\n",
    "\n",
    "# Close the file\n",
    "file1.close()\t"
   ]
  },
  {
   "cell_type": "code",
   "execution_count": null,
   "metadata": {},
   "outputs": [],
   "source": []
  }
 ]
}